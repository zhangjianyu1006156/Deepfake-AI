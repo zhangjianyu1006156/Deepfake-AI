{
  "cells": [
    {
      "cell_type": "code",
      "execution_count": 6,
      "metadata": {
        "colab": {
          "base_uri": "https://localhost:8080/"
        },
        "id": "II6P9eAara7t",
        "outputId": "2b392cee-5df5-4838-b3b8-4baa24273bd9"
      },
      "outputs": [
        {
          "name": "stdout",
          "output_type": "stream",
          "text": [
            "Drive already mounted at /content/gdrive; to attempt to forcibly remount, call drive.mount(\"/content/gdrive\", force_remount=True).\n"
          ]
        }
      ],
      "source": [
        "#Mount google drive\n",
        "from google.colab import drive\n",
        "drive.mount('/content/gdrive')"
      ]
    },
    {
      "cell_type": "code",
      "execution_count": 7,
      "metadata": {
        "colab": {
          "base_uri": "https://localhost:8080/"
        },
        "id": "tuK1nAwPtBUv",
        "outputId": "aff48733-7ad4-4576-a11d-f0be9991c078"
      },
      "outputs": [
        {
          "name": "stdout",
          "output_type": "stream",
          "text": [
            "/content/gdrive/MyDrive/Deepfake_detector/mini_df_data/train_dataset\n"
          ]
        }
      ],
      "source": [
        "%cd /content/gdrive/MyDrive/Deepfake_detector/mini_df_data/train_dataset\n",
        "# %ls\n",
        "# %cd gdrive\n",
        "# %ls\n"
      ]
    },
    {
      "cell_type": "code",
      "execution_count": 8,
      "metadata": {
        "colab": {
          "base_uri": "https://localhost:8080/"
        },
        "id": "sGaHQ_KatBn4",
        "outputId": "a4abee00-1283-4a31-97bc-9bdbcb9aecef"
      },
      "outputs": [
        {
          "name": "stdout",
          "output_type": "stream",
          "text": [
            "frames [300, 300, 300, 301, 300, 301, 300, 300, 300, 300, 300, 300, 300, 300, 300, 300, 300, 300, 301, 300, 300, 300, 300, 300, 301, 300, 300, 300, 300, 167, 300, 167, 300, 300, 301, 301, 301, 301, 301, 300, 300, 301, 300, 300]\n",
            "Total number of videos:  44\n",
            "Average frame per video: 294.1818181818182\n"
          ]
        }
      ],
      "source": [
        "#To get the average frame count\n",
        "import json\n",
        "import glob\n",
        "import numpy as np\n",
        "import cv2\n",
        "import copy\n",
        "#change the path accordingly\n",
        "video_files =  glob.glob('fake/*.mp4')\n",
        "#video_files1 =  glob.glob('/content/dfdc_train_part_0/*.mp4')\n",
        "#video_files += video_files1\n",
        "frame_count = []\n",
        "for video_file in video_files:\n",
        "  cap = cv2.VideoCapture(video_file)\n",
        "  if(int(cap.get(cv2.CAP_PROP_FRAME_COUNT))<150):\n",
        "    video_files.remove(video_file)\n",
        "    continue\n",
        "  frame_count.append(int(cap.get(cv2.CAP_PROP_FRAME_COUNT)))\n",
        "print(\"frames\" , frame_count)\n",
        "print(\"Total number of videos: \" , len(frame_count))\n",
        "print('Average frame per video:',np.mean(frame_count))"
      ]
    },
    {
      "cell_type": "code",
      "execution_count": 9,
      "metadata": {
        "colab": {
          "base_uri": "https://localhost:8080/"
        },
        "id": "MDz-LjKltFN2",
        "outputId": "3e0a3fa7-56ec-40b0-b0ca-e9b71821474c"
      },
      "outputs": [
        {
          "name": "stdout",
          "output_type": "stream",
          "text": [
            "Requirement already satisfied: face_recognition in /usr/local/lib/python3.10/dist-packages (1.3.0)\n",
            "Requirement already satisfied: face-recognition-models>=0.3.0 in /usr/local/lib/python3.10/dist-packages (from face_recognition) (0.3.0)\n",
            "Requirement already satisfied: Click>=6.0 in /usr/local/lib/python3.10/dist-packages (from face_recognition) (8.1.7)\n",
            "Requirement already satisfied: dlib>=19.7 in /usr/local/lib/python3.10/dist-packages (from face_recognition) (19.24.4)\n",
            "Requirement already satisfied: numpy in /usr/local/lib/python3.10/dist-packages (from face_recognition) (1.25.2)\n",
            "Requirement already satisfied: Pillow in /usr/local/lib/python3.10/dist-packages (from face_recognition) (9.4.0)\n"
          ]
        }
      ],
      "source": [
        "# # to extract frame\n",
        "# def frame_extract(path):\n",
        "#   vidObj = cv2.VideoCapture(path)\n",
        "#   success = 1\n",
        "#   while success:\n",
        "#       success, image = vidObj.read()\n",
        "#       if success:\n",
        "#           yield image\n",
        "!pip3 install face_recognition\n",
        "# # !mkdir 'content/gdrive/MyDrive/Deepfake_detector/dataset/processed_dataset/fake'\n",
        "import torch\n",
        "import torchvision\n",
        "from torchvision import transforms\n",
        "from torch.utils.data import DataLoader\n",
        "from torch.utils.data.dataset import Dataset\n",
        "import os\n",
        "import numpy as np\n",
        "import cv2\n",
        "import matplotlib.pyplot as plt\n",
        "import face_recognition\n",
        "from tqdm.autonotebook import tqdm\n",
        "# # process the frames\n",
        "# def create_face_videos(path_list,out_dir):\n",
        "#   already_present_count =  glob.glob(out_dir+'*.mp4')\n",
        "#   print(\"No of videos already present \" , len(already_present_count))\n",
        "#   for path in tqdm(path_list):\n",
        "#     out_path = os.path.join(out_dir,path.split('/')[-1])\n",
        "#     file_exists = glob.glob(out_path)\n",
        "#     if(len(file_exists) != 0):\n",
        "#       print(\"File Already exists: \" , out_path)\n",
        "#       continue\n",
        "#     frames = []\n",
        "#     flag = 0\n",
        "#     face_all = []\n",
        "#     frames1 = []\n",
        "#     out = cv2.VideoWriter(out_path,cv2.VideoWriter_fourcc('M','J','P','G'), 30, (112,112))\n",
        "#     for idx,frame in enumerate(frame_extract(path)):\n",
        "#       #if(idx % 3 == 0):\n",
        "#       if(idx <= 150):\n",
        "#         frames.append(frame)\n",
        "#         if(len(frames) == 4):\n",
        "#           faces = face_recognition.batch_face_locations(frames)\n",
        "#           for i,face in enumerate(faces):\n",
        "#             if(len(face) != 0):\n",
        "#               top,right,bottom,left = face[0]\n",
        "#             try:\n",
        "#               out.write(cv2.resize(frames[i][top:bottom,left:right,:],(112,112)))\n",
        "#             except:\n",
        "#               pass\n",
        "#           frames = []\n",
        "#     try:\n",
        "#       del top,right,bottom,left\n",
        "#     except:\n",
        "#       pass\n",
        "#     out.release()\n",
        "import gc\n",
        "\n",
        "def create_face_videos(path_list, out_dir):\n",
        "    already_present_count = len(glob.glob(os.path.join(out_dir, '*.mp4')))\n",
        "    print(\"Number of videos already present:\", already_present_count)\n",
        "\n",
        "    for path in tqdm(path_list):\n",
        "        out_path = os.path.join(out_dir, os.path.basename(path))\n",
        "        if os.path.exists(out_path):\n",
        "            print(\"File already exists:\", out_path)\n",
        "            continue\n",
        "\n",
        "        vidObj = cv2.VideoCapture(path)\n",
        "        out = cv2.VideoWriter(out_path, cv2.VideoWriter_fourcc('M','J','P','G'), 30, (112,112))\n",
        "        frames = []\n",
        "\n",
        "        try:\n",
        "            success, frame = vidObj.read()\n",
        "            while success and len(frames) <= 150:\n",
        "                frames.append(frame)\n",
        "                if len(frames) == 4:\n",
        "                    # Reduce batch size to manage memory usage\n",
        "                    faces = face_recognition.batch_face_locations(frames, number_of_times_to_upsample=0, batch_size=2)\n",
        "                    for i, face_locations in enumerate(faces):\n",
        "                        for top, right, bottom, left in face_locations:\n",
        "                            cropped_frame = cv2.resize(frame[top:bottom, left:right], (112, 112))\n",
        "                            out.write(cropped_frame)\n",
        "                    frames.clear()  # Clear frames list to free up memory\n",
        "                success, frame = vidObj.read()\n",
        "        except Exception as e:\n",
        "            print(f\"Error processing video {path}: {str(e)}\")\n",
        "\n",
        "        out.release()\n",
        "        vidObj.release()\n",
        "        cv2.destroyAllWindows()\n",
        "        gc.collect()  # Explicitly call garbage collector after processing each video\n",
        "\n"
      ]
    },
    {
      "cell_type": "code",
      "execution_count": 13,
      "metadata": {
        "colab": {
          "base_uri": "https://localhost:8080/",
          "height": 101,
          "referenced_widgets": [
            "105ebd08e1904d0ba33a94d8585a890a",
            "a82de8963d874dfcb05258f4c9fc250f",
            "6eeb43d996bc4196aefd5065ee28887f",
            "10082c7d44db4dfdab944f2ea3bd5305",
            "5e1ff5362d7549eb8f8c7aac19a92679",
            "2e2df9bddb9941b5921180250d53f186",
            "c3cc8705b21b46aea8cb6f7ceb197b6a",
            "5ef1cbaf07344887ae408ad0f3fd48bc",
            "2a69beeaa70342639495477d59df7c76",
            "26924d18152a4114bab1774ac12ad430",
            "8e9abb6ef7974791aed40a0ed99d88d3"
          ]
        },
        "id": "aqTEPwHgtHqO",
        "outputId": "a69f5c12-fda0-4f8d-c258-7246f246b2fc"
      },
      "outputs": [
        {
          "name": "stdout",
          "output_type": "stream",
          "text": [
            "Number of videos already present: 2\n"
          ]
        },
        {
          "data": {
            "application/vnd.jupyter.widget-view+json": {
              "model_id": "105ebd08e1904d0ba33a94d8585a890a",
              "version_major": 2,
              "version_minor": 0
            },
            "text/plain": [
              "  0%|          | 0/45 [00:00<?, ?it/s]"
            ]
          },
          "metadata": {},
          "output_type": "display_data"
        },
        {
          "name": "stdout",
          "output_type": "stream",
          "text": [
            "File already exists: /content/gdrive/MyDrive/Deepfake_detector/dataset/processed_dataset/fake/4958.mp4\n",
            "File already exists: /content/gdrive/MyDrive/Deepfake_detector/dataset/processed_dataset/fake/4957.mp4\n"
          ]
        }
      ],
      "source": [
        " create_face_videos(video_files,'/content/gdrive/MyDrive/Deepfake_detector/dataset/processed_dataset/fake')"
      ]
    }
  ],
  "metadata": {
    "accelerator": "GPU",
    "colab": {
      "gpuType": "V100",
      "provenance": []
    },
    "kernelspec": {
      "display_name": "Python 3",
      "name": "python3"
    },
    "language_info": {
      "name": "python",
      "version": "3.11.4"
    },
    "widgets": {
      "application/vnd.jupyter.widget-state+json": {
        "10082c7d44db4dfdab944f2ea3bd5305": {
          "model_module": "@jupyter-widgets/controls",
          "model_module_version": "1.5.0",
          "model_name": "HTMLModel",
          "state": {
            "_dom_classes": [],
            "_model_module": "@jupyter-widgets/controls",
            "_model_module_version": "1.5.0",
            "_model_name": "HTMLModel",
            "_view_count": null,
            "_view_module": "@jupyter-widgets/controls",
            "_view_module_version": "1.5.0",
            "_view_name": "HTMLView",
            "description": "",
            "description_tooltip": null,
            "layout": "IPY_MODEL_26924d18152a4114bab1774ac12ad430",
            "placeholder": "​",
            "style": "IPY_MODEL_8e9abb6ef7974791aed40a0ed99d88d3",
            "value": " 45/45 [09:52&lt;00:00, 13.73s/it]"
          }
        },
        "105ebd08e1904d0ba33a94d8585a890a": {
          "model_module": "@jupyter-widgets/controls",
          "model_module_version": "1.5.0",
          "model_name": "HBoxModel",
          "state": {
            "_dom_classes": [],
            "_model_module": "@jupyter-widgets/controls",
            "_model_module_version": "1.5.0",
            "_model_name": "HBoxModel",
            "_view_count": null,
            "_view_module": "@jupyter-widgets/controls",
            "_view_module_version": "1.5.0",
            "_view_name": "HBoxView",
            "box_style": "",
            "children": [
              "IPY_MODEL_a82de8963d874dfcb05258f4c9fc250f",
              "IPY_MODEL_6eeb43d996bc4196aefd5065ee28887f",
              "IPY_MODEL_10082c7d44db4dfdab944f2ea3bd5305"
            ],
            "layout": "IPY_MODEL_5e1ff5362d7549eb8f8c7aac19a92679"
          }
        },
        "26924d18152a4114bab1774ac12ad430": {
          "model_module": "@jupyter-widgets/base",
          "model_module_version": "1.2.0",
          "model_name": "LayoutModel",
          "state": {
            "_model_module": "@jupyter-widgets/base",
            "_model_module_version": "1.2.0",
            "_model_name": "LayoutModel",
            "_view_count": null,
            "_view_module": "@jupyter-widgets/base",
            "_view_module_version": "1.2.0",
            "_view_name": "LayoutView",
            "align_content": null,
            "align_items": null,
            "align_self": null,
            "border": null,
            "bottom": null,
            "display": null,
            "flex": null,
            "flex_flow": null,
            "grid_area": null,
            "grid_auto_columns": null,
            "grid_auto_flow": null,
            "grid_auto_rows": null,
            "grid_column": null,
            "grid_gap": null,
            "grid_row": null,
            "grid_template_areas": null,
            "grid_template_columns": null,
            "grid_template_rows": null,
            "height": null,
            "justify_content": null,
            "justify_items": null,
            "left": null,
            "margin": null,
            "max_height": null,
            "max_width": null,
            "min_height": null,
            "min_width": null,
            "object_fit": null,
            "object_position": null,
            "order": null,
            "overflow": null,
            "overflow_x": null,
            "overflow_y": null,
            "padding": null,
            "right": null,
            "top": null,
            "visibility": null,
            "width": null
          }
        },
        "2a69beeaa70342639495477d59df7c76": {
          "model_module": "@jupyter-widgets/controls",
          "model_module_version": "1.5.0",
          "model_name": "ProgressStyleModel",
          "state": {
            "_model_module": "@jupyter-widgets/controls",
            "_model_module_version": "1.5.0",
            "_model_name": "ProgressStyleModel",
            "_view_count": null,
            "_view_module": "@jupyter-widgets/base",
            "_view_module_version": "1.2.0",
            "_view_name": "StyleView",
            "bar_color": null,
            "description_width": ""
          }
        },
        "2e2df9bddb9941b5921180250d53f186": {
          "model_module": "@jupyter-widgets/base",
          "model_module_version": "1.2.0",
          "model_name": "LayoutModel",
          "state": {
            "_model_module": "@jupyter-widgets/base",
            "_model_module_version": "1.2.0",
            "_model_name": "LayoutModel",
            "_view_count": null,
            "_view_module": "@jupyter-widgets/base",
            "_view_module_version": "1.2.0",
            "_view_name": "LayoutView",
            "align_content": null,
            "align_items": null,
            "align_self": null,
            "border": null,
            "bottom": null,
            "display": null,
            "flex": null,
            "flex_flow": null,
            "grid_area": null,
            "grid_auto_columns": null,
            "grid_auto_flow": null,
            "grid_auto_rows": null,
            "grid_column": null,
            "grid_gap": null,
            "grid_row": null,
            "grid_template_areas": null,
            "grid_template_columns": null,
            "grid_template_rows": null,
            "height": null,
            "justify_content": null,
            "justify_items": null,
            "left": null,
            "margin": null,
            "max_height": null,
            "max_width": null,
            "min_height": null,
            "min_width": null,
            "object_fit": null,
            "object_position": null,
            "order": null,
            "overflow": null,
            "overflow_x": null,
            "overflow_y": null,
            "padding": null,
            "right": null,
            "top": null,
            "visibility": null,
            "width": null
          }
        },
        "5e1ff5362d7549eb8f8c7aac19a92679": {
          "model_module": "@jupyter-widgets/base",
          "model_module_version": "1.2.0",
          "model_name": "LayoutModel",
          "state": {
            "_model_module": "@jupyter-widgets/base",
            "_model_module_version": "1.2.0",
            "_model_name": "LayoutModel",
            "_view_count": null,
            "_view_module": "@jupyter-widgets/base",
            "_view_module_version": "1.2.0",
            "_view_name": "LayoutView",
            "align_content": null,
            "align_items": null,
            "align_self": null,
            "border": null,
            "bottom": null,
            "display": null,
            "flex": null,
            "flex_flow": null,
            "grid_area": null,
            "grid_auto_columns": null,
            "grid_auto_flow": null,
            "grid_auto_rows": null,
            "grid_column": null,
            "grid_gap": null,
            "grid_row": null,
            "grid_template_areas": null,
            "grid_template_columns": null,
            "grid_template_rows": null,
            "height": null,
            "justify_content": null,
            "justify_items": null,
            "left": null,
            "margin": null,
            "max_height": null,
            "max_width": null,
            "min_height": null,
            "min_width": null,
            "object_fit": null,
            "object_position": null,
            "order": null,
            "overflow": null,
            "overflow_x": null,
            "overflow_y": null,
            "padding": null,
            "right": null,
            "top": null,
            "visibility": null,
            "width": null
          }
        },
        "5ef1cbaf07344887ae408ad0f3fd48bc": {
          "model_module": "@jupyter-widgets/base",
          "model_module_version": "1.2.0",
          "model_name": "LayoutModel",
          "state": {
            "_model_module": "@jupyter-widgets/base",
            "_model_module_version": "1.2.0",
            "_model_name": "LayoutModel",
            "_view_count": null,
            "_view_module": "@jupyter-widgets/base",
            "_view_module_version": "1.2.0",
            "_view_name": "LayoutView",
            "align_content": null,
            "align_items": null,
            "align_self": null,
            "border": null,
            "bottom": null,
            "display": null,
            "flex": null,
            "flex_flow": null,
            "grid_area": null,
            "grid_auto_columns": null,
            "grid_auto_flow": null,
            "grid_auto_rows": null,
            "grid_column": null,
            "grid_gap": null,
            "grid_row": null,
            "grid_template_areas": null,
            "grid_template_columns": null,
            "grid_template_rows": null,
            "height": null,
            "justify_content": null,
            "justify_items": null,
            "left": null,
            "margin": null,
            "max_height": null,
            "max_width": null,
            "min_height": null,
            "min_width": null,
            "object_fit": null,
            "object_position": null,
            "order": null,
            "overflow": null,
            "overflow_x": null,
            "overflow_y": null,
            "padding": null,
            "right": null,
            "top": null,
            "visibility": null,
            "width": null
          }
        },
        "6eeb43d996bc4196aefd5065ee28887f": {
          "model_module": "@jupyter-widgets/controls",
          "model_module_version": "1.5.0",
          "model_name": "FloatProgressModel",
          "state": {
            "_dom_classes": [],
            "_model_module": "@jupyter-widgets/controls",
            "_model_module_version": "1.5.0",
            "_model_name": "FloatProgressModel",
            "_view_count": null,
            "_view_module": "@jupyter-widgets/controls",
            "_view_module_version": "1.5.0",
            "_view_name": "ProgressView",
            "bar_style": "success",
            "description": "",
            "description_tooltip": null,
            "layout": "IPY_MODEL_5ef1cbaf07344887ae408ad0f3fd48bc",
            "max": 45,
            "min": 0,
            "orientation": "horizontal",
            "style": "IPY_MODEL_2a69beeaa70342639495477d59df7c76",
            "value": 45
          }
        },
        "8e9abb6ef7974791aed40a0ed99d88d3": {
          "model_module": "@jupyter-widgets/controls",
          "model_module_version": "1.5.0",
          "model_name": "DescriptionStyleModel",
          "state": {
            "_model_module": "@jupyter-widgets/controls",
            "_model_module_version": "1.5.0",
            "_model_name": "DescriptionStyleModel",
            "_view_count": null,
            "_view_module": "@jupyter-widgets/base",
            "_view_module_version": "1.2.0",
            "_view_name": "StyleView",
            "description_width": ""
          }
        },
        "a82de8963d874dfcb05258f4c9fc250f": {
          "model_module": "@jupyter-widgets/controls",
          "model_module_version": "1.5.0",
          "model_name": "HTMLModel",
          "state": {
            "_dom_classes": [],
            "_model_module": "@jupyter-widgets/controls",
            "_model_module_version": "1.5.0",
            "_model_name": "HTMLModel",
            "_view_count": null,
            "_view_module": "@jupyter-widgets/controls",
            "_view_module_version": "1.5.0",
            "_view_name": "HTMLView",
            "description": "",
            "description_tooltip": null,
            "layout": "IPY_MODEL_2e2df9bddb9941b5921180250d53f186",
            "placeholder": "​",
            "style": "IPY_MODEL_c3cc8705b21b46aea8cb6f7ceb197b6a",
            "value": "100%"
          }
        },
        "c3cc8705b21b46aea8cb6f7ceb197b6a": {
          "model_module": "@jupyter-widgets/controls",
          "model_module_version": "1.5.0",
          "model_name": "DescriptionStyleModel",
          "state": {
            "_model_module": "@jupyter-widgets/controls",
            "_model_module_version": "1.5.0",
            "_model_name": "DescriptionStyleModel",
            "_view_count": null,
            "_view_module": "@jupyter-widgets/base",
            "_view_module_version": "1.2.0",
            "_view_name": "StyleView",
            "description_width": ""
          }
        }
      }
    }
  },
  "nbformat": 4,
  "nbformat_minor": 0
}
