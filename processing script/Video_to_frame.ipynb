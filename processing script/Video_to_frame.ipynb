{
  "cells": [
    {
      "cell_type": "code",
      "execution_count": 1,
      "metadata": {
        "colab": {
          "base_uri": "https://localhost:8080/"
        },
        "id": "II6P9eAara7t",
        "outputId": "d27ad96f-6abf-428c-ebcc-996b879bfe31"
      },
      "outputs": [
        {
          "name": "stdout",
          "output_type": "stream",
          "text": [
            "Drive already mounted at /content/gdrive; to attempt to forcibly remount, call drive.mount(\"/content/gdrive\", force_remount=True).\n"
          ]
        }
      ],
      "source": [
        "#Mount google drive\n",
        "from google.colab import drive\n",
        "drive.mount('/content/gdrive')"
      ]
    },
    {
      "cell_type": "code",
      "execution_count": 2,
      "metadata": {
        "colab": {
          "base_uri": "https://localhost:8080/"
        },
        "id": "tuK1nAwPtBUv",
        "outputId": "af674f1a-1725-453d-92d1-72bb86a9949f"
      },
      "outputs": [
        {
          "name": "stdout",
          "output_type": "stream",
          "text": [
            "/content/gdrive/MyDrive/Deepfake_detector/mini_df_data/train_dataset\n"
          ]
        }
      ],
      "source": [
        "%cd /content/gdrive/MyDrive/Deepfake_detector/mini_df_data/train_dataset\n",
        "# %ls\n",
        "# %cd gdrive\n",
        "# %ls\n"
      ]
    },
    {
      "cell_type": "code",
      "execution_count": 3,
      "metadata": {
        "colab": {
          "base_uri": "https://localhost:8080/"
        },
        "id": "sGaHQ_KatBn4",
        "outputId": "06f214c1-c872-4368-dcc0-5c8988e26a5c"
      },
      "outputs": [
        {
          "name": "stdout",
          "output_type": "stream",
          "text": [
            "frames [300, 301, 300, 300, 301, 300, 300, 300, 300, 300, 300, 300, 301, 300, 301, 300, 300, 300, 301, 300, 300, 300, 301, 300, 167, 300, 300, 300, 300, 300, 300, 300, 301, 301, 300, 300, 301, 300, 300, 300, 300, 301, 301, 167]\n",
            "Total number of videos:  44\n",
            "Average frame per video: 294.20454545454544\n"
          ]
        }
      ],
      "source": [
        "#To get the average frame count\n",
        "import json\n",
        "import glob\n",
        "import numpy as np\n",
        "import cv2\n",
        "import copy\n",
        "#change the path accordingly\n",
        "video_files =  glob.glob('fake/*.mp4')\n",
        "\n",
        "# change to path of real videos\n",
        "# video_files =  glob.glob('real/*.mp4')\n",
        "\n",
        "#video_files1 =  glob.glob('/content/dfdc_train_part_0/*.mp4')\n",
        "#video_files += video_files1\n",
        "frame_count = []\n",
        "for video_file in video_files:\n",
        "  cap = cv2.VideoCapture(video_file)\n",
        "  if(int(cap.get(cv2.CAP_PROP_FRAME_COUNT))<150):\n",
        "    video_files.remove(video_file)\n",
        "    continue\n",
        "  frame_count.append(int(cap.get(cv2.CAP_PROP_FRAME_COUNT)))\n",
        "print(\"frames\" , frame_count)\n",
        "print(\"Total number of videos: \" , len(frame_count))\n",
        "print('Average frame per video:',np.mean(frame_count))"
      ]
    },
    {
      "cell_type": "code",
      "execution_count": 4,
      "metadata": {
        "colab": {
          "base_uri": "https://localhost:8080/"
        },
        "id": "MDz-LjKltFN2",
        "outputId": "ff25b046-46d3-4a69-b4b9-22ab5d595e09"
      },
      "outputs": [
        {
          "name": "stdout",
          "output_type": "stream",
          "text": [
            "Requirement already satisfied: face_recognition in /usr/local/lib/python3.10/dist-packages (1.3.0)\n",
            "Requirement already satisfied: face-recognition-models>=0.3.0 in /usr/local/lib/python3.10/dist-packages (from face_recognition) (0.3.0)\n",
            "Requirement already satisfied: Click>=6.0 in /usr/local/lib/python3.10/dist-packages (from face_recognition) (8.1.7)\n",
            "Requirement already satisfied: dlib>=19.7 in /usr/local/lib/python3.10/dist-packages (from face_recognition) (19.24.4)\n",
            "Requirement already satisfied: numpy in /usr/local/lib/python3.10/dist-packages (from face_recognition) (1.25.2)\n",
            "Requirement already satisfied: Pillow in /usr/local/lib/python3.10/dist-packages (from face_recognition) (9.4.0)\n"
          ]
        }
      ],
      "source": [
        "# # to extract frame\n",
        "# def frame_extract(path):\n",
        "#   vidObj = cv2.VideoCapture(path)\n",
        "#   success = 1\n",
        "#   while success:\n",
        "#       success, image = vidObj.read()\n",
        "#       if success:\n",
        "#           yield image\n",
        "!pip3 install face_recognition\n",
        "# # !mkdir 'content/gdrive/MyDrive/Deepfake_detector/dataset/processed_dataset/fake'\n",
        "import torch\n",
        "import torchvision\n",
        "from torchvision import transforms\n",
        "from torch.utils.data import DataLoader\n",
        "from torch.utils.data.dataset import Dataset\n",
        "import os\n",
        "import numpy as np\n",
        "import cv2\n",
        "import matplotlib.pyplot as plt\n",
        "import face_recognition\n",
        "from tqdm.autonotebook import tqdm\n",
        "import gc\n",
        "from tqdm import tqdm\n",
        "\n",
        "\n",
        "\n",
        "\n",
        "\n",
        "def save_cropped_face_frames(path_list, out_dir, max_frames=50):\n",
        "    if not os.path.exists(out_dir):\n",
        "        os.makedirs(out_dir)\n",
        "\n",
        "    already_present_count = len(glob.glob(os.path.join(out_dir, '*.jpg')))\n",
        "    print(\"Number of frames already present:\", already_present_count)\n",
        "\n",
        "    for path in tqdm(path_list):\n",
        "        vidObj = cv2.VideoCapture(path)\n",
        "        total_frames = int(vidObj.get(cv2.CAP_PROP_FRAME_COUNT))\n",
        "        frame_step = max(1, total_frames // max_frames)  # Calculate step to ensure we get up to max_frames\n",
        "        frames_saved = 0  # Initialize a counter for saved frames\n",
        "\n",
        "        try:\n",
        "            frame_index = 0\n",
        "            success, frame = vidObj.read()\n",
        "            while success and frame_index < total_frames:\n",
        "                if (frame_index % frame_step == 0):  # Only process frame if it's on the step\n",
        "                    faces = face_recognition.batch_face_locations([frame], number_of_times_to_upsample=0, batch_size=1)\n",
        "                    for face_locations in faces:\n",
        "                        for top, right, bottom, left in face_locations:\n",
        "                            cropped_frame = cv2.resize(frame[top:bottom, left:right], (112, 112))\n",
        "                            frame_file_path = os.path.join(out_dir, f\"{os.path.basename(path)}_frame{frame_index}.jpg\")\n",
        "                            cv2.imwrite(frame_file_path, cropped_frame)\n",
        "                            frames_saved += 1  # Increment for each saved frame\n",
        "                success, frame = vidObj.read()\n",
        "                frame_index += 1\n",
        "        except Exception as e:\n",
        "            print(f\"Error processing video {path}: {str(e)}\")\n",
        "\n",
        "        vidObj.release()\n",
        "        cv2.destroyAllWindows()\n",
        "        gc.collect()  # Explicitly call garbage collector after processing each video\n",
        "        print(f\"Total frames saved for video {os.path.basename(path)}: {frames_saved}\")  # Print number of frames saved for each video\n",
        "\n",
        "\n",
        "\n",
        "\n",
        "\n"
      ]
    },
    {
      "cell_type": "code",
      "execution_count": null,
      "metadata": {
        "colab": {
          "base_uri": "https://localhost:8080/"
        },
        "id": "aqTEPwHgtHqO",
        "outputId": "b1194db3-ef81-467c-b002-19d74bd70a35"
      },
      "outputs": [
        {
          "name": "stdout",
          "output_type": "stream",
          "text": [
            "Number of frames already present: 2206\n"
          ]
        },
        {
          "name": "stderr",
          "output_type": "stream",
          "text": [
            "  2%|▏         | 1/45 [00:30<22:17, 30.40s/it]"
          ]
        },
        {
          "name": "stdout",
          "output_type": "stream",
          "text": [
            "Total frames saved for video 4957.mp4: 50\n"
          ]
        },
        {
          "name": "stderr",
          "output_type": "stream",
          "text": [
            "\r  4%|▍         | 2/45 [00:33<10:27, 14.60s/it]"
          ]
        },
        {
          "name": "stdout",
          "output_type": "stream",
          "text": [
            "Total frames saved for video 4955.mp4: 10\n"
          ]
        },
        {
          "name": "stderr",
          "output_type": "stream",
          "text": [
            "\r  7%|▋         | 3/45 [00:41<07:50, 11.21s/it]"
          ]
        },
        {
          "name": "stdout",
          "output_type": "stream",
          "text": [
            "Total frames saved for video 4956.mp4: 50\n"
          ]
        },
        {
          "name": "stderr",
          "output_type": "stream",
          "text": [
            "\r  9%|▉         | 4/45 [00:49<06:52, 10.05s/it]"
          ]
        },
        {
          "name": "stdout",
          "output_type": "stream",
          "text": [
            "Total frames saved for video 4973.mp4: 50\n"
          ]
        },
        {
          "name": "stderr",
          "output_type": "stream",
          "text": [
            "\r 11%|█         | 5/45 [00:53<05:14,  7.86s/it]"
          ]
        },
        {
          "name": "stdout",
          "output_type": "stream",
          "text": [
            "Total frames saved for video 4987.mp4: 47\n"
          ]
        },
        {
          "name": "stderr",
          "output_type": "stream",
          "text": [
            "\r 13%|█▎        | 6/45 [01:03<05:42,  8.78s/it]"
          ]
        },
        {
          "name": "stdout",
          "output_type": "stream",
          "text": [
            "Total frames saved for video 4958.mp4: 50\n"
          ]
        },
        {
          "name": "stderr",
          "output_type": "stream",
          "text": [
            "\r 16%|█▌        | 7/45 [01:11<05:14,  8.27s/it]"
          ]
        },
        {
          "name": "stdout",
          "output_type": "stream",
          "text": [
            "Total frames saved for video 4963.mp4: 50\n"
          ]
        },
        {
          "name": "stderr",
          "output_type": "stream",
          "text": [
            "\r 18%|█▊        | 8/45 [01:19<05:09,  8.38s/it]"
          ]
        },
        {
          "name": "stdout",
          "output_type": "stream",
          "text": [
            "Total frames saved for video 4984.mp4: 50\n"
          ]
        },
        {
          "name": "stderr",
          "output_type": "stream",
          "text": [
            "\r 20%|██        | 9/45 [01:27<04:56,  8.22s/it]"
          ]
        },
        {
          "name": "stdout",
          "output_type": "stream",
          "text": [
            "Total frames saved for video 4985.mp4: 50\n"
          ]
        },
        {
          "name": "stderr",
          "output_type": "stream",
          "text": [
            "\r 22%|██▏       | 10/45 [01:36<04:53,  8.37s/it]"
          ]
        },
        {
          "name": "stdout",
          "output_type": "stream",
          "text": [
            "Total frames saved for video 4976.mp4: 50\n"
          ]
        },
        {
          "name": "stderr",
          "output_type": "stream",
          "text": [
            "\r 24%|██▍       | 11/45 [01:45<04:54,  8.67s/it]"
          ]
        },
        {
          "name": "stdout",
          "output_type": "stream",
          "text": [
            "Total frames saved for video 4986.mp4: 50\n"
          ]
        },
        {
          "name": "stderr",
          "output_type": "stream",
          "text": [
            "\r 27%|██▋       | 12/45 [01:53<04:36,  8.37s/it]"
          ]
        },
        {
          "name": "stdout",
          "output_type": "stream",
          "text": [
            "Total frames saved for video 4982.mp4: 50\n"
          ]
        },
        {
          "name": "stderr",
          "output_type": "stream",
          "text": [
            "\r 29%|██▉       | 13/45 [01:57<03:51,  7.23s/it]"
          ]
        },
        {
          "name": "stdout",
          "output_type": "stream",
          "text": [
            "Total frames saved for video 4975.mp4: 51\n"
          ]
        },
        {
          "name": "stderr",
          "output_type": "stream",
          "text": [
            "\r 31%|███       | 14/45 [02:06<03:57,  7.65s/it]"
          ]
        },
        {
          "name": "stdout",
          "output_type": "stream",
          "text": [
            "Total frames saved for video 4970.mp4: 94\n"
          ]
        },
        {
          "name": "stderr",
          "output_type": "stream",
          "text": [
            "\r 33%|███▎      | 15/45 [02:10<03:13,  6.46s/it]"
          ]
        },
        {
          "name": "stdout",
          "output_type": "stream",
          "text": [
            "Total frames saved for video 4981.mp4: 21\n"
          ]
        },
        {
          "name": "stderr",
          "output_type": "stream",
          "text": [
            "\r 36%|███▌      | 16/45 [02:44<07:11, 14.89s/it]"
          ]
        },
        {
          "name": "stdout",
          "output_type": "stream",
          "text": [
            "Total frames saved for video 4983.mp4: 50\n"
          ]
        },
        {
          "name": "stderr",
          "output_type": "stream",
          "text": [
            "\r 38%|███▊      | 17/45 [02:53<06:05, 13.07s/it]"
          ]
        },
        {
          "name": "stdout",
          "output_type": "stream",
          "text": [
            "Total frames saved for video 4980.mp4: 50\n"
          ]
        },
        {
          "name": "stderr",
          "output_type": "stream",
          "text": [
            "\r 40%|████      | 18/45 [03:01<05:08, 11.42s/it]"
          ]
        },
        {
          "name": "stdout",
          "output_type": "stream",
          "text": [
            "Total frames saved for video 4965.mp4: 50\n"
          ]
        },
        {
          "name": "stderr",
          "output_type": "stream",
          "text": [
            "\r 42%|████▏     | 19/45 [03:04<03:56,  9.10s/it]"
          ]
        },
        {
          "name": "stdout",
          "output_type": "stream",
          "text": [
            "Total frames saved for video 4977.mp4: 51\n"
          ]
        },
        {
          "name": "stderr",
          "output_type": "stream",
          "text": [
            "\r 44%|████▍     | 20/45 [03:13<03:43,  8.96s/it]"
          ]
        },
        {
          "name": "stdout",
          "output_type": "stream",
          "text": [
            "Total frames saved for video 4966.mp4: 49\n"
          ]
        },
        {
          "name": "stderr",
          "output_type": "stream",
          "text": [
            "\r 47%|████▋     | 21/45 [03:20<03:20,  8.36s/it]"
          ]
        },
        {
          "name": "stdout",
          "output_type": "stream",
          "text": [
            "Total frames saved for video 4974.mp4: 50\n"
          ]
        },
        {
          "name": "stderr",
          "output_type": "stream",
          "text": [
            "\r 49%|████▉     | 22/45 [03:29<03:14,  8.48s/it]"
          ]
        },
        {
          "name": "stdout",
          "output_type": "stream",
          "text": [
            "Total frames saved for video 4964.mp4: 50\n"
          ]
        },
        {
          "name": "stderr",
          "output_type": "stream",
          "text": [
            "\r 51%|█████     | 23/45 [03:33<02:37,  7.14s/it]"
          ]
        },
        {
          "name": "stdout",
          "output_type": "stream",
          "text": [
            "Total frames saved for video 4967.mp4: 47\n"
          ]
        },
        {
          "name": "stderr",
          "output_type": "stream",
          "text": [
            "\r 53%|█████▎    | 24/45 [03:42<02:44,  7.85s/it]"
          ]
        },
        {
          "name": "stdout",
          "output_type": "stream",
          "text": [
            "Total frames saved for video 4969.mp4: 46\n"
          ]
        },
        {
          "name": "stderr",
          "output_type": "stream",
          "text": [
            "\r 56%|█████▌    | 25/45 [03:48<02:23,  7.20s/it]"
          ]
        },
        {
          "name": "stdout",
          "output_type": "stream",
          "text": [
            "Total frames saved for video 4978.mp4: 56\n"
          ]
        },
        {
          "name": "stderr",
          "output_type": "stream",
          "text": [
            "\r 58%|█████▊    | 26/45 [03:57<02:26,  7.71s/it]"
          ]
        },
        {
          "name": "stdout",
          "output_type": "stream",
          "text": [
            "Total frames saved for video 4972.mp4: 50\n"
          ]
        },
        {
          "name": "stderr",
          "output_type": "stream",
          "text": [
            "\r 60%|██████    | 27/45 [04:04<02:14,  7.48s/it]"
          ]
        },
        {
          "name": "stdout",
          "output_type": "stream",
          "text": [
            "Total frames saved for video 4960.mp4: 50\n"
          ]
        },
        {
          "name": "stderr",
          "output_type": "stream",
          "text": [
            "\r 62%|██████▏   | 28/45 [04:12<02:10,  7.68s/it]"
          ]
        },
        {
          "name": "stdout",
          "output_type": "stream",
          "text": [
            "Total frames saved for video 4979.mp4: 50\n"
          ]
        },
        {
          "name": "stderr",
          "output_type": "stream",
          "text": [
            "\r 64%|██████▍   | 29/45 [04:41<03:46, 14.14s/it]"
          ]
        },
        {
          "name": "stdout",
          "output_type": "stream",
          "text": [
            "Total frames saved for video 4962.mp4: 101\n"
          ]
        },
        {
          "name": "stderr",
          "output_type": "stream",
          "text": [
            "\r 67%|██████▋   | 30/45 [04:48<02:59, 12.00s/it]"
          ]
        },
        {
          "name": "stdout",
          "output_type": "stream",
          "text": [
            "Total frames saved for video 4971.mp4: 50\n"
          ]
        },
        {
          "name": "stderr",
          "output_type": "stream",
          "text": [
            "\r 69%|██████▉   | 31/45 [04:57<02:33, 10.96s/it]"
          ]
        },
        {
          "name": "stdout",
          "output_type": "stream",
          "text": [
            "Total frames saved for video 4961.mp4: 50\n"
          ]
        },
        {
          "name": "stderr",
          "output_type": "stream",
          "text": [
            "\r 71%|███████   | 32/45 [05:04<02:09,  9.94s/it]"
          ]
        },
        {
          "name": "stdout",
          "output_type": "stream",
          "text": [
            "Total frames saved for video 4968.mp4: 50\n"
          ]
        },
        {
          "name": "stderr",
          "output_type": "stream",
          "text": [
            "\r 73%|███████▎  | 33/45 [05:12<01:52,  9.37s/it]"
          ]
        },
        {
          "name": "stdout",
          "output_type": "stream",
          "text": [
            "Total frames saved for video 4999.mp4: 50\n"
          ]
        },
        {
          "name": "stderr",
          "output_type": "stream",
          "text": [
            "\r 76%|███████▌  | 34/45 [05:16<01:24,  7.68s/it]"
          ]
        },
        {
          "name": "stdout",
          "output_type": "stream",
          "text": [
            "Total frames saved for video 4989.mp4: 51\n"
          ]
        },
        {
          "name": "stderr",
          "output_type": "stream",
          "text": [
            "\r 78%|███████▊  | 35/45 [05:20<01:06,  6.67s/it]"
          ]
        },
        {
          "name": "stdout",
          "output_type": "stream",
          "text": [
            "Total frames saved for video 5000.mp4: 51\n"
          ]
        }
      ],
      "source": [
        "save_cropped_face_frames(video_files, '/content/gdrive/MyDrive/Deepfake_detector/dataset/processed_dataset_frame/fake')\n",
        "# save_cropped_face_frames(video_files, '/content/gdrive/MyDrive/Deepfake_detector/dataset/processed_dataset_frame/real')"
      ]
    },
    {
      "cell_type": "code",
      "execution_count": null,
      "metadata": {
        "id": "9QeZh2bODSPV"
      },
      "outputs": [],
      "source": []
    }
  ],
  "metadata": {
    "accelerator": "GPU",
    "colab": {
      "gpuType": "V100",
      "provenance": []
    },
    "kernelspec": {
      "display_name": "Python 3",
      "name": "python3"
    },
    "language_info": {
      "name": "python",
      "version": "3.11.4"
    }
  },
  "nbformat": 4,
  "nbformat_minor": 0
}
